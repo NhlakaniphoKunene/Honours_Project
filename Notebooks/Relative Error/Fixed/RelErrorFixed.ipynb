{
 "cells": [
  {
   "cell_type": "code",
   "execution_count": 1,
   "id": "363855c9",
   "metadata": {},
   "outputs": [],
   "source": [
    "import matplotlib.pyplot as plt\n",
    "import numpy as np\n",
    "import pandas as pd\n",
    "\n",
    "#read the data file\n",
    "data=pd.read_csv('rings_final2_fixed.txt', delimiter=\"\\s+\", index_col=False)"
   ]
  },
  {
   "cell_type": "code",
   "execution_count": 2,
   "id": "0148d69b",
   "metadata": {},
   "outputs": [
    {
     "data": {
      "text/html": [
       "<div>\n",
       "<style scoped>\n",
       "    .dataframe tbody tr th:only-of-type {\n",
       "        vertical-align: middle;\n",
       "    }\n",
       "\n",
       "    .dataframe tbody tr th {\n",
       "        vertical-align: top;\n",
       "    }\n",
       "\n",
       "    .dataframe thead th {\n",
       "        text-align: right;\n",
       "    }\n",
       "</style>\n",
       "<table border=\"1\" class=\"dataframe\">\n",
       "  <thead>\n",
       "    <tr style=\"text-align: right;\">\n",
       "      <th></th>\n",
       "      <th>#RAD(Kpc)</th>\n",
       "      <th>RAD(arcs)</th>\n",
       "      <th>VROT(km/s)</th>\n",
       "      <th>DISP(km/s)</th>\n",
       "      <th>INC(deg)</th>\n",
       "      <th>P.A.(deg)</th>\n",
       "      <th>Z0(pc)</th>\n",
       "      <th>Z0(arcs)</th>\n",
       "      <th>SIG(E20)</th>\n",
       "      <th>XPOS(pix)</th>\n",
       "      <th>YPOS(pix)</th>\n",
       "      <th>VSYS(km/s)</th>\n",
       "      <th>VRAD(km/s)</th>\n",
       "      <th>E_VROT1</th>\n",
       "      <th>E_VROT2</th>\n",
       "      <th>E_DISP1</th>\n",
       "      <th>E_DISP2</th>\n",
       "    </tr>\n",
       "  </thead>\n",
       "  <tbody>\n",
       "    <tr>\n",
       "      <th>0</th>\n",
       "      <td>0.233</td>\n",
       "      <td>15.0</td>\n",
       "      <td>45.759</td>\n",
       "      <td>22.827</td>\n",
       "      <td>60.0</td>\n",
       "      <td>124.012</td>\n",
       "      <td>155.144</td>\n",
       "      <td>10.0</td>\n",
       "      <td>1.0</td>\n",
       "      <td>77.0</td>\n",
       "      <td>77.0</td>\n",
       "      <td>132.8</td>\n",
       "      <td>0.0</td>\n",
       "      <td>-4.547</td>\n",
       "      <td>4.457</td>\n",
       "      <td>-3.503</td>\n",
       "      <td>2.844</td>\n",
       "    </tr>\n",
       "    <tr>\n",
       "      <th>1</th>\n",
       "      <td>0.698</td>\n",
       "      <td>45.0</td>\n",
       "      <td>66.706</td>\n",
       "      <td>21.254</td>\n",
       "      <td>60.0</td>\n",
       "      <td>124.012</td>\n",
       "      <td>155.144</td>\n",
       "      <td>10.0</td>\n",
       "      <td>1.0</td>\n",
       "      <td>77.0</td>\n",
       "      <td>77.0</td>\n",
       "      <td>132.8</td>\n",
       "      <td>0.0</td>\n",
       "      <td>-4.470</td>\n",
       "      <td>4.661</td>\n",
       "      <td>-2.778</td>\n",
       "      <td>2.652</td>\n",
       "    </tr>\n",
       "    <tr>\n",
       "      <th>2</th>\n",
       "      <td>1.164</td>\n",
       "      <td>75.0</td>\n",
       "      <td>76.579</td>\n",
       "      <td>17.760</td>\n",
       "      <td>60.0</td>\n",
       "      <td>124.012</td>\n",
       "      <td>155.144</td>\n",
       "      <td>10.0</td>\n",
       "      <td>1.0</td>\n",
       "      <td>77.0</td>\n",
       "      <td>77.0</td>\n",
       "      <td>132.8</td>\n",
       "      <td>0.0</td>\n",
       "      <td>-4.362</td>\n",
       "      <td>3.728</td>\n",
       "      <td>-2.405</td>\n",
       "      <td>2.664</td>\n",
       "    </tr>\n",
       "    <tr>\n",
       "      <th>3</th>\n",
       "      <td>1.629</td>\n",
       "      <td>105.0</td>\n",
       "      <td>83.956</td>\n",
       "      <td>16.344</td>\n",
       "      <td>60.0</td>\n",
       "      <td>124.012</td>\n",
       "      <td>155.144</td>\n",
       "      <td>10.0</td>\n",
       "      <td>1.0</td>\n",
       "      <td>77.0</td>\n",
       "      <td>77.0</td>\n",
       "      <td>132.8</td>\n",
       "      <td>0.0</td>\n",
       "      <td>-3.672</td>\n",
       "      <td>3.154</td>\n",
       "      <td>-2.112</td>\n",
       "      <td>2.025</td>\n",
       "    </tr>\n",
       "    <tr>\n",
       "      <th>4</th>\n",
       "      <td>2.094</td>\n",
       "      <td>135.0</td>\n",
       "      <td>91.553</td>\n",
       "      <td>14.753</td>\n",
       "      <td>60.0</td>\n",
       "      <td>124.012</td>\n",
       "      <td>155.144</td>\n",
       "      <td>10.0</td>\n",
       "      <td>1.0</td>\n",
       "      <td>77.0</td>\n",
       "      <td>77.0</td>\n",
       "      <td>132.8</td>\n",
       "      <td>0.0</td>\n",
       "      <td>-3.027</td>\n",
       "      <td>2.703</td>\n",
       "      <td>-1.740</td>\n",
       "      <td>2.068</td>\n",
       "    </tr>\n",
       "  </tbody>\n",
       "</table>\n",
       "</div>"
      ],
      "text/plain": [
       "   #RAD(Kpc)  RAD(arcs)  VROT(km/s)  DISP(km/s)  INC(deg)  P.A.(deg)   Z0(pc)  \\\n",
       "0      0.233       15.0      45.759      22.827      60.0    124.012  155.144   \n",
       "1      0.698       45.0      66.706      21.254      60.0    124.012  155.144   \n",
       "2      1.164       75.0      76.579      17.760      60.0    124.012  155.144   \n",
       "3      1.629      105.0      83.956      16.344      60.0    124.012  155.144   \n",
       "4      2.094      135.0      91.553      14.753      60.0    124.012  155.144   \n",
       "\n",
       "   Z0(arcs)  SIG(E20)  XPOS(pix)  YPOS(pix)  VSYS(km/s)  VRAD(km/s)  E_VROT1  \\\n",
       "0      10.0       1.0       77.0       77.0       132.8         0.0   -4.547   \n",
       "1      10.0       1.0       77.0       77.0       132.8         0.0   -4.470   \n",
       "2      10.0       1.0       77.0       77.0       132.8         0.0   -4.362   \n",
       "3      10.0       1.0       77.0       77.0       132.8         0.0   -3.672   \n",
       "4      10.0       1.0       77.0       77.0       132.8         0.0   -3.027   \n",
       "\n",
       "   E_VROT2  E_DISP1  E_DISP2  \n",
       "0    4.457   -3.503    2.844  \n",
       "1    4.661   -2.778    2.652  \n",
       "2    3.728   -2.405    2.664  \n",
       "3    3.154   -2.112    2.025  \n",
       "4    2.703   -1.740    2.068  "
      ]
     },
     "execution_count": 2,
     "metadata": {},
     "output_type": "execute_result"
    }
   ],
   "source": [
    "data.head(5)"
   ]
  },
  {
   "cell_type": "code",
   "execution_count": 3,
   "id": "7b3b00d2",
   "metadata": {},
   "outputs": [
    {
     "data": {
      "text/plain": [
       "Index(['#RAD(Kpc)', 'RAD(arcs)', 'VROT(km/s)', 'DISP(km/s)', 'INC(deg)',\n",
       "       'P.A.(deg)', 'Z0(pc)', 'Z0(arcs)', 'SIG(E20)', 'XPOS(pix)', 'YPOS(pix)',\n",
       "       'VSYS(km/s)', 'VRAD(km/s)', 'E_VROT1', 'E_VROT2', 'E_DISP1', 'E_DISP2'],\n",
       "      dtype='object')"
      ]
     },
     "execution_count": 3,
     "metadata": {},
     "output_type": "execute_result"
    }
   ],
   "source": [
    "data.columns"
   ]
  },
  {
   "cell_type": "code",
   "execution_count": 28,
   "id": "46b58443",
   "metadata": {},
   "outputs": [],
   "source": [
    "Vtrue=np.mean(data['VROT(km/s)'])\n",
    "Vest=[data['VROT(km/s)']+data['E_VROT2']]\n",
    "Vesr=np.mean(Vest)"
   ]
  },
  {
   "cell_type": "code",
   "execution_count": 29,
   "id": "eb3922b9",
   "metadata": {},
   "outputs": [],
   "source": [
    "Relative=np.round(np.abs((Vtrue-Vesr)/Vesr)*100,2)"
   ]
  },
  {
   "cell_type": "code",
   "execution_count": 30,
   "id": "11f23222",
   "metadata": {},
   "outputs": [
    {
     "data": {
      "text/plain": [
       "(121.62048780487807, 124.39053658536585, 2.23)"
      ]
     },
     "execution_count": 30,
     "metadata": {},
     "output_type": "execute_result"
    }
   ],
   "source": [
    "Vtrue,Vesr,Relative"
   ]
  },
  {
   "cell_type": "code",
   "execution_count": 35,
   "id": "977fc6bc",
   "metadata": {},
   "outputs": [],
   "source": [
    "RE=np.abs((data['VROT(km/s)']-(data['VROT(km/s)']+data['E_VROT2']))/(data['VROT(km/s)']+data['E_VROT2']))*100"
   ]
  },
  {
   "cell_type": "code",
   "execution_count": 36,
   "id": "6d44e7a9",
   "metadata": {},
   "outputs": [
    {
     "data": {
      "text/plain": [
       "2.4126860546208353"
      ]
     },
     "execution_count": 36,
     "metadata": {},
     "output_type": "execute_result"
    }
   ],
   "source": [
    "np.mean(RE)"
   ]
  },
  {
   "cell_type": "code",
   "execution_count": null,
   "id": "94a21d4d",
   "metadata": {},
   "outputs": [],
   "source": []
  }
 ],
 "metadata": {
  "kernelspec": {
   "display_name": "Python 3",
   "language": "python",
   "name": "python3"
  },
  "language_info": {
   "codemirror_mode": {
    "name": "ipython",
    "version": 3
   },
   "file_extension": ".py",
   "mimetype": "text/x-python",
   "name": "python",
   "nbconvert_exporter": "python",
   "pygments_lexer": "ipython3",
   "version": "3.8.8"
  }
 },
 "nbformat": 4,
 "nbformat_minor": 5
}
