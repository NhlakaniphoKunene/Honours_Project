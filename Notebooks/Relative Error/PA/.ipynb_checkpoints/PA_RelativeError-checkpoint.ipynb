{
 "cells": [
  {
   "cell_type": "code",
   "execution_count": 2,
   "id": "a2479edd",
   "metadata": {},
   "outputs": [],
   "source": [
    "import matplotlib.pyplot as plt\n",
    "import numpy as np\n",
    "import pandas as pd\n",
    "\n",
    "#read the data file\n",
    "lower=pd.read_csv('rings_final1_lower.txt', delimiter=\"\\s+\", index_col=False)\n",
    "upper=pd.read_csv('rings_final1_upper.txt', delimiter=\"\\s+\", index_col=False)"
   ]
  },
  {
   "cell_type": "code",
   "execution_count": 3,
   "id": "623e8c87",
   "metadata": {},
   "outputs": [
    {
     "data": {
      "text/html": [
       "<div>\n",
       "<style scoped>\n",
       "    .dataframe tbody tr th:only-of-type {\n",
       "        vertical-align: middle;\n",
       "    }\n",
       "\n",
       "    .dataframe tbody tr th {\n",
       "        vertical-align: top;\n",
       "    }\n",
       "\n",
       "    .dataframe thead th {\n",
       "        text-align: right;\n",
       "    }\n",
       "</style>\n",
       "<table border=\"1\" class=\"dataframe\">\n",
       "  <thead>\n",
       "    <tr style=\"text-align: right;\">\n",
       "      <th></th>\n",
       "      <th>#RAD(Kpc)</th>\n",
       "      <th>RAD(arcs)</th>\n",
       "      <th>VROT(km/s)</th>\n",
       "      <th>DISP(km/s)</th>\n",
       "      <th>INC(deg)</th>\n",
       "      <th>P.A.(deg)</th>\n",
       "      <th>Z0(pc)</th>\n",
       "      <th>Z0(arcs)</th>\n",
       "      <th>SIG(E20)</th>\n",
       "      <th>XPOS(pix)</th>\n",
       "      <th>YPOS(pix)</th>\n",
       "      <th>VSYS(km/s)</th>\n",
       "      <th>VRAD(km/s)</th>\n",
       "      <th>E_VROT1</th>\n",
       "      <th>E_VROT2</th>\n",
       "      <th>E_DISP1</th>\n",
       "      <th>E_DISP2</th>\n",
       "    </tr>\n",
       "  </thead>\n",
       "  <tbody>\n",
       "    <tr>\n",
       "      <th>0</th>\n",
       "      <td>0.233</td>\n",
       "      <td>15.0</td>\n",
       "      <td>41.930</td>\n",
       "      <td>25.465</td>\n",
       "      <td>60.0</td>\n",
       "      <td>103.7</td>\n",
       "      <td>155.144</td>\n",
       "      <td>10.0</td>\n",
       "      <td>1.0</td>\n",
       "      <td>77.0</td>\n",
       "      <td>77.0</td>\n",
       "      <td>132.8</td>\n",
       "      <td>0.0</td>\n",
       "      <td>-3.549</td>\n",
       "      <td>3.816</td>\n",
       "      <td>-3.099</td>\n",
       "      <td>2.816</td>\n",
       "    </tr>\n",
       "    <tr>\n",
       "      <th>1</th>\n",
       "      <td>0.698</td>\n",
       "      <td>45.0</td>\n",
       "      <td>58.110</td>\n",
       "      <td>24.358</td>\n",
       "      <td>60.0</td>\n",
       "      <td>103.7</td>\n",
       "      <td>155.144</td>\n",
       "      <td>10.0</td>\n",
       "      <td>1.0</td>\n",
       "      <td>77.0</td>\n",
       "      <td>77.0</td>\n",
       "      <td>132.8</td>\n",
       "      <td>0.0</td>\n",
       "      <td>-5.243</td>\n",
       "      <td>5.106</td>\n",
       "      <td>-4.457</td>\n",
       "      <td>3.633</td>\n",
       "    </tr>\n",
       "    <tr>\n",
       "      <th>2</th>\n",
       "      <td>1.164</td>\n",
       "      <td>75.0</td>\n",
       "      <td>68.170</td>\n",
       "      <td>18.508</td>\n",
       "      <td>60.0</td>\n",
       "      <td>103.7</td>\n",
       "      <td>155.144</td>\n",
       "      <td>10.0</td>\n",
       "      <td>1.0</td>\n",
       "      <td>77.0</td>\n",
       "      <td>77.0</td>\n",
       "      <td>132.8</td>\n",
       "      <td>0.0</td>\n",
       "      <td>-4.519</td>\n",
       "      <td>4.960</td>\n",
       "      <td>-2.792</td>\n",
       "      <td>3.699</td>\n",
       "    </tr>\n",
       "    <tr>\n",
       "      <th>3</th>\n",
       "      <td>1.629</td>\n",
       "      <td>105.0</td>\n",
       "      <td>76.674</td>\n",
       "      <td>18.229</td>\n",
       "      <td>60.0</td>\n",
       "      <td>103.7</td>\n",
       "      <td>155.144</td>\n",
       "      <td>10.0</td>\n",
       "      <td>1.0</td>\n",
       "      <td>77.0</td>\n",
       "      <td>77.0</td>\n",
       "      <td>132.8</td>\n",
       "      <td>0.0</td>\n",
       "      <td>-5.667</td>\n",
       "      <td>4.840</td>\n",
       "      <td>-3.160</td>\n",
       "      <td>3.545</td>\n",
       "    </tr>\n",
       "    <tr>\n",
       "      <th>4</th>\n",
       "      <td>2.094</td>\n",
       "      <td>135.0</td>\n",
       "      <td>80.891</td>\n",
       "      <td>17.651</td>\n",
       "      <td>60.0</td>\n",
       "      <td>103.7</td>\n",
       "      <td>155.144</td>\n",
       "      <td>10.0</td>\n",
       "      <td>1.0</td>\n",
       "      <td>77.0</td>\n",
       "      <td>77.0</td>\n",
       "      <td>132.8</td>\n",
       "      <td>0.0</td>\n",
       "      <td>-5.004</td>\n",
       "      <td>5.529</td>\n",
       "      <td>-3.471</td>\n",
       "      <td>3.471</td>\n",
       "    </tr>\n",
       "  </tbody>\n",
       "</table>\n",
       "</div>"
      ],
      "text/plain": [
       "   #RAD(Kpc)  RAD(arcs)  VROT(km/s)  DISP(km/s)  INC(deg)  P.A.(deg)   Z0(pc)  \\\n",
       "0      0.233       15.0      41.930      25.465      60.0      103.7  155.144   \n",
       "1      0.698       45.0      58.110      24.358      60.0      103.7  155.144   \n",
       "2      1.164       75.0      68.170      18.508      60.0      103.7  155.144   \n",
       "3      1.629      105.0      76.674      18.229      60.0      103.7  155.144   \n",
       "4      2.094      135.0      80.891      17.651      60.0      103.7  155.144   \n",
       "\n",
       "   Z0(arcs)  SIG(E20)  XPOS(pix)  YPOS(pix)  VSYS(km/s)  VRAD(km/s)  E_VROT1  \\\n",
       "0      10.0       1.0       77.0       77.0       132.8         0.0   -3.549   \n",
       "1      10.0       1.0       77.0       77.0       132.8         0.0   -5.243   \n",
       "2      10.0       1.0       77.0       77.0       132.8         0.0   -4.519   \n",
       "3      10.0       1.0       77.0       77.0       132.8         0.0   -5.667   \n",
       "4      10.0       1.0       77.0       77.0       132.8         0.0   -5.004   \n",
       "\n",
       "   E_VROT2  E_DISP1  E_DISP2  \n",
       "0    3.816   -3.099    2.816  \n",
       "1    5.106   -4.457    3.633  \n",
       "2    4.960   -2.792    3.699  \n",
       "3    4.840   -3.160    3.545  \n",
       "4    5.529   -3.471    3.471  "
      ]
     },
     "execution_count": 3,
     "metadata": {},
     "output_type": "execute_result"
    }
   ],
   "source": [
    "lower.head(5)"
   ]
  },
  {
   "cell_type": "code",
   "execution_count": 4,
   "id": "237b30b7",
   "metadata": {},
   "outputs": [
    {
     "data": {
      "text/plain": [
       "Index(['#RAD(Kpc)', 'RAD(arcs)', 'VROT(km/s)', 'DISP(km/s)', 'INC(deg)',\n",
       "       'P.A.(deg)', 'Z0(pc)', 'Z0(arcs)', 'SIG(E20)', 'XPOS(pix)', 'YPOS(pix)',\n",
       "       'VSYS(km/s)', 'VRAD(km/s)', 'E_VROT1', 'E_VROT2', 'E_DISP1', 'E_DISP2'],\n",
       "      dtype='object')"
      ]
     },
     "execution_count": 4,
     "metadata": {},
     "output_type": "execute_result"
    }
   ],
   "source": [
    "lower.columns"
   ]
  },
  {
   "cell_type": "code",
   "execution_count": 5,
   "id": "ac7bc49d",
   "metadata": {},
   "outputs": [],
   "source": [
    "Vtrue_lower=np.mean(lower['VROT(km/s)'])\n",
    "Vest_lower=[lower['VROT(km/s)']+lower['E_VROT2']]\n",
    "Vesr_lower=np.mean(Vest_lower)"
   ]
  },
  {
   "cell_type": "code",
   "execution_count": 6,
   "id": "294a033d",
   "metadata": {},
   "outputs": [],
   "source": [
    "Relative_lower=np.abs((Vtrue_lower-Vesr_lower)/Vesr_lower)*100"
   ]
  },
  {
   "cell_type": "code",
   "execution_count": 7,
   "id": "7f883887",
   "metadata": {},
   "outputs": [
    {
     "data": {
      "text/plain": [
       "(14.114423566652768, 99.99202702702704, 116.42470270270273)"
      ]
     },
     "execution_count": 7,
     "metadata": {},
     "output_type": "execute_result"
    }
   ],
   "source": [
    "Relative_lower, Vtrue_lower,Vesr_lower "
   ]
  },
  {
   "cell_type": "markdown",
   "id": "49111680",
   "metadata": {},
   "source": [
    "### Upper"
   ]
  },
  {
   "cell_type": "code",
   "execution_count": 16,
   "id": "a868018a",
   "metadata": {},
   "outputs": [],
   "source": [
    "Vtrue_upper=np.mean(upper['VROT(km/s)'])\n",
    "Vest_upper=[upper['VROT(km/s)']+upper['E_VROT2']]\n",
    "Vesr_upper=np.mean(Vest_upper)"
   ]
  },
  {
   "cell_type": "code",
   "execution_count": 17,
   "id": "ade7b252",
   "metadata": {},
   "outputs": [],
   "source": [
    "Relative_upper=np.abs((Vtrue_upper-Vesr_upper)/Vesr_upper)*100"
   ]
  },
  {
   "cell_type": "code",
   "execution_count": 18,
   "id": "6629dc06",
   "metadata": {},
   "outputs": [
    {
     "data": {
      "text/plain": [
       "(4.376259740161186, 110.258625, 115.30465625)"
      ]
     },
     "execution_count": 18,
     "metadata": {},
     "output_type": "execute_result"
    }
   ],
   "source": [
    "Relative_upper, Vtrue_upper,Vesr_upper"
   ]
  },
  {
   "cell_type": "code",
   "execution_count": null,
   "id": "7bcb65da",
   "metadata": {},
   "outputs": [],
   "source": []
  }
 ],
 "metadata": {
  "kernelspec": {
   "display_name": "Python 3",
   "language": "python",
   "name": "python3"
  },
  "language_info": {
   "codemirror_mode": {
    "name": "ipython",
    "version": 3
   },
   "file_extension": ".py",
   "mimetype": "text/x-python",
   "name": "python",
   "nbconvert_exporter": "python",
   "pygments_lexer": "ipython3",
   "version": "3.8.8"
  }
 },
 "nbformat": 4,
 "nbformat_minor": 5
}
