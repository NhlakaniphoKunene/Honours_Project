{
 "cells": [
  {
   "cell_type": "code",
   "execution_count": 1,
   "id": "a2479edd",
   "metadata": {},
   "outputs": [],
   "source": [
    "import matplotlib.pyplot as plt\n",
    "import numpy as np\n",
    "import pandas as pd\n",
    "\n",
    "#read the data file\n",
    "lower=pd.read_csv('rings_final2_lower.txt', delimiter=\"\\s+\", index_col=False)\n",
    "upper=pd.read_csv('rings_final2_upper.txt', delimiter=\"\\s+\", index_col=False)"
   ]
  },
  {
   "cell_type": "code",
   "execution_count": 2,
   "id": "623e8c87",
   "metadata": {},
   "outputs": [
    {
     "data": {
      "text/html": [
       "<div>\n",
       "<style scoped>\n",
       "    .dataframe tbody tr th:only-of-type {\n",
       "        vertical-align: middle;\n",
       "    }\n",
       "\n",
       "    .dataframe tbody tr th {\n",
       "        vertical-align: top;\n",
       "    }\n",
       "\n",
       "    .dataframe thead th {\n",
       "        text-align: right;\n",
       "    }\n",
       "</style>\n",
       "<table border=\"1\" class=\"dataframe\">\n",
       "  <thead>\n",
       "    <tr style=\"text-align: right;\">\n",
       "      <th></th>\n",
       "      <th>#RAD(Kpc)</th>\n",
       "      <th>RAD(arcs)</th>\n",
       "      <th>VROT(km/s)</th>\n",
       "      <th>DISP(km/s)</th>\n",
       "      <th>INC(deg)</th>\n",
       "      <th>P.A.(deg)</th>\n",
       "      <th>Z0(pc)</th>\n",
       "      <th>Z0(arcs)</th>\n",
       "      <th>SIG(E20)</th>\n",
       "      <th>XPOS(pix)</th>\n",
       "      <th>YPOS(pix)</th>\n",
       "      <th>VSYS(km/s)</th>\n",
       "      <th>VRAD(km/s)</th>\n",
       "      <th>E_VROT1</th>\n",
       "      <th>E_VROT2</th>\n",
       "      <th>E_DISP1</th>\n",
       "      <th>E_DISP2</th>\n",
       "    </tr>\n",
       "  </thead>\n",
       "  <tbody>\n",
       "    <tr>\n",
       "      <th>0</th>\n",
       "      <td>0.233</td>\n",
       "      <td>15.0</td>\n",
       "      <td>68.866</td>\n",
       "      <td>10.102</td>\n",
       "      <td>60.0</td>\n",
       "      <td>114.107</td>\n",
       "      <td>155.144</td>\n",
       "      <td>10.0</td>\n",
       "      <td>1.0</td>\n",
       "      <td>77.0</td>\n",
       "      <td>77.0</td>\n",
       "      <td>82.8</td>\n",
       "      <td>0.0</td>\n",
       "      <td>-18.829</td>\n",
       "      <td>16.436</td>\n",
       "      <td>-6.563</td>\n",
       "      <td>6.563</td>\n",
       "    </tr>\n",
       "    <tr>\n",
       "      <th>1</th>\n",
       "      <td>0.698</td>\n",
       "      <td>45.0</td>\n",
       "      <td>122.080</td>\n",
       "      <td>16.510</td>\n",
       "      <td>60.0</td>\n",
       "      <td>125.014</td>\n",
       "      <td>155.144</td>\n",
       "      <td>10.0</td>\n",
       "      <td>1.0</td>\n",
       "      <td>77.0</td>\n",
       "      <td>77.0</td>\n",
       "      <td>82.8</td>\n",
       "      <td>0.0</td>\n",
       "      <td>-12.982</td>\n",
       "      <td>10.026</td>\n",
       "      <td>-6.971</td>\n",
       "      <td>7.814</td>\n",
       "    </tr>\n",
       "    <tr>\n",
       "      <th>2</th>\n",
       "      <td>1.164</td>\n",
       "      <td>75.0</td>\n",
       "      <td>130.113</td>\n",
       "      <td>14.167</td>\n",
       "      <td>60.0</td>\n",
       "      <td>127.271</td>\n",
       "      <td>155.144</td>\n",
       "      <td>10.0</td>\n",
       "      <td>1.0</td>\n",
       "      <td>77.0</td>\n",
       "      <td>77.0</td>\n",
       "      <td>82.8</td>\n",
       "      <td>0.0</td>\n",
       "      <td>-10.162</td>\n",
       "      <td>8.629</td>\n",
       "      <td>-7.553</td>\n",
       "      <td>8.354</td>\n",
       "    </tr>\n",
       "    <tr>\n",
       "      <th>3</th>\n",
       "      <td>1.629</td>\n",
       "      <td>105.0</td>\n",
       "      <td>141.322</td>\n",
       "      <td>12.288</td>\n",
       "      <td>60.0</td>\n",
       "      <td>126.850</td>\n",
       "      <td>155.144</td>\n",
       "      <td>10.0</td>\n",
       "      <td>1.0</td>\n",
       "      <td>77.0</td>\n",
       "      <td>77.0</td>\n",
       "      <td>82.8</td>\n",
       "      <td>0.0</td>\n",
       "      <td>-9.562</td>\n",
       "      <td>7.839</td>\n",
       "      <td>-6.890</td>\n",
       "      <td>7.802</td>\n",
       "    </tr>\n",
       "    <tr>\n",
       "      <th>4</th>\n",
       "      <td>2.094</td>\n",
       "      <td>135.0</td>\n",
       "      <td>149.307</td>\n",
       "      <td>11.811</td>\n",
       "      <td>60.0</td>\n",
       "      <td>125.568</td>\n",
       "      <td>155.144</td>\n",
       "      <td>10.0</td>\n",
       "      <td>1.0</td>\n",
       "      <td>77.0</td>\n",
       "      <td>77.0</td>\n",
       "      <td>82.8</td>\n",
       "      <td>0.0</td>\n",
       "      <td>-8.024</td>\n",
       "      <td>7.629</td>\n",
       "      <td>-6.356</td>\n",
       "      <td>6.894</td>\n",
       "    </tr>\n",
       "  </tbody>\n",
       "</table>\n",
       "</div>"
      ],
      "text/plain": [
       "   #RAD(Kpc)  RAD(arcs)  VROT(km/s)  DISP(km/s)  INC(deg)  P.A.(deg)   Z0(pc)  \\\n",
       "0      0.233       15.0      68.866      10.102      60.0    114.107  155.144   \n",
       "1      0.698       45.0     122.080      16.510      60.0    125.014  155.144   \n",
       "2      1.164       75.0     130.113      14.167      60.0    127.271  155.144   \n",
       "3      1.629      105.0     141.322      12.288      60.0    126.850  155.144   \n",
       "4      2.094      135.0     149.307      11.811      60.0    125.568  155.144   \n",
       "\n",
       "   Z0(arcs)  SIG(E20)  XPOS(pix)  YPOS(pix)  VSYS(km/s)  VRAD(km/s)  E_VROT1  \\\n",
       "0      10.0       1.0       77.0       77.0        82.8         0.0  -18.829   \n",
       "1      10.0       1.0       77.0       77.0        82.8         0.0  -12.982   \n",
       "2      10.0       1.0       77.0       77.0        82.8         0.0  -10.162   \n",
       "3      10.0       1.0       77.0       77.0        82.8         0.0   -9.562   \n",
       "4      10.0       1.0       77.0       77.0        82.8         0.0   -8.024   \n",
       "\n",
       "   E_VROT2  E_DISP1  E_DISP2  \n",
       "0   16.436   -6.563    6.563  \n",
       "1   10.026   -6.971    7.814  \n",
       "2    8.629   -7.553    8.354  \n",
       "3    7.839   -6.890    7.802  \n",
       "4    7.629   -6.356    6.894  "
      ]
     },
     "execution_count": 2,
     "metadata": {},
     "output_type": "execute_result"
    }
   ],
   "source": [
    "lower.head(5)"
   ]
  },
  {
   "cell_type": "code",
   "execution_count": 3,
   "id": "237b30b7",
   "metadata": {},
   "outputs": [
    {
     "data": {
      "text/plain": [
       "Index(['#RAD(Kpc)', 'RAD(arcs)', 'VROT(km/s)', 'DISP(km/s)', 'INC(deg)',\n",
       "       'P.A.(deg)', 'Z0(pc)', 'Z0(arcs)', 'SIG(E20)', 'XPOS(pix)', 'YPOS(pix)',\n",
       "       'VSYS(km/s)', 'VRAD(km/s)', 'E_VROT1', 'E_VROT2', 'E_DISP1', 'E_DISP2'],\n",
       "      dtype='object')"
      ]
     },
     "execution_count": 3,
     "metadata": {},
     "output_type": "execute_result"
    }
   ],
   "source": [
    "lower.columns"
   ]
  },
  {
   "cell_type": "code",
   "execution_count": 4,
   "id": "ac7bc49d",
   "metadata": {},
   "outputs": [],
   "source": [
    "Vtrue_lower=np.mean(lower['VROT(km/s)'])\n",
    "Vest_lower=[lower['VROT(km/s)']+lower['E_VROT2']]\n",
    "Vesr_lower=np.mean(Vest_lower)"
   ]
  },
  {
   "cell_type": "code",
   "execution_count": 5,
   "id": "294a033d",
   "metadata": {},
   "outputs": [],
   "source": [
    "Relative_lower=np.abs((Vtrue_lower-Vesr_lower)/Vesr_lower)*100"
   ]
  },
  {
   "cell_type": "code",
   "execution_count": 6,
   "id": "7f883887",
   "metadata": {},
   "outputs": [
    {
     "data": {
      "text/plain": [
       "(5.3819341353226395, 181.5658684210526, 191.89344736842105)"
      ]
     },
     "execution_count": 6,
     "metadata": {},
     "output_type": "execute_result"
    }
   ],
   "source": [
    "Relative_lower, Vtrue_lower,Vesr_lower "
   ]
  },
  {
   "cell_type": "markdown",
   "id": "49111680",
   "metadata": {},
   "source": [
    "### Upper"
   ]
  },
  {
   "cell_type": "code",
   "execution_count": 7,
   "id": "a868018a",
   "metadata": {},
   "outputs": [],
   "source": [
    "Vtrue_upper=np.mean(upper['VROT(km/s)'])\n",
    "Vest_upper=[upper['VROT(km/s)']+upper['E_VROT2']]\n",
    "Vesr_upper=np.mean(Vest_upper)"
   ]
  },
  {
   "cell_type": "code",
   "execution_count": 8,
   "id": "ade7b252",
   "metadata": {},
   "outputs": [],
   "source": [
    "Relative_upper=np.abs((Vtrue_upper-Vesr_upper)/Vesr_upper)*100"
   ]
  },
  {
   "cell_type": "code",
   "execution_count": 9,
   "id": "6629dc06",
   "metadata": {},
   "outputs": [
    {
     "data": {
      "text/plain": [
       "(5.906875335618717, 184.6352285714286, 196.22605714285712)"
      ]
     },
     "execution_count": 9,
     "metadata": {},
     "output_type": "execute_result"
    }
   ],
   "source": [
    "Relative_upper, Vtrue_upper,Vesr_upper"
   ]
  },
  {
   "cell_type": "code",
   "execution_count": null,
   "id": "7bcb65da",
   "metadata": {},
   "outputs": [],
   "source": []
  }
 ],
 "metadata": {
  "kernelspec": {
   "display_name": "Python 3",
   "language": "python",
   "name": "python3"
  },
  "language_info": {
   "codemirror_mode": {
    "name": "ipython",
    "version": 3
   },
   "file_extension": ".py",
   "mimetype": "text/x-python",
   "name": "python",
   "nbconvert_exporter": "python",
   "pygments_lexer": "ipython3",
   "version": "3.8.8"
  }
 },
 "nbformat": 4,
 "nbformat_minor": 5
}
