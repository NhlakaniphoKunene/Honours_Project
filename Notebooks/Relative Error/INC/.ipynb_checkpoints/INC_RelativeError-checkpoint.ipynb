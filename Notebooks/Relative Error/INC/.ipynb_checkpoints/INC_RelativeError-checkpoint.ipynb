{
 "cells": [
  {
   "cell_type": "code",
   "execution_count": 1,
   "id": "a2479edd",
   "metadata": {},
   "outputs": [],
   "source": [
    "import matplotlib.pyplot as plt\n",
    "import numpy as np\n",
    "import pandas as pd\n",
    "\n",
    "#read the data file\n",
    "lower=pd.read_csv('rings_final2_lower.txt', delimiter=\"\\s+\", index_col=False)\n",
    "upper=pd.read_csv('rings_final2_upper.txt', delimiter=\"\\s+\", index_col=False)"
   ]
  },
  {
   "cell_type": "code",
   "execution_count": 2,
   "id": "623e8c87",
   "metadata": {},
   "outputs": [
    {
     "data": {
      "text/html": [
       "<div>\n",
       "<style scoped>\n",
       "    .dataframe tbody tr th:only-of-type {\n",
       "        vertical-align: middle;\n",
       "    }\n",
       "\n",
       "    .dataframe tbody tr th {\n",
       "        vertical-align: top;\n",
       "    }\n",
       "\n",
       "    .dataframe thead th {\n",
       "        text-align: right;\n",
       "    }\n",
       "</style>\n",
       "<table border=\"1\" class=\"dataframe\">\n",
       "  <thead>\n",
       "    <tr style=\"text-align: right;\">\n",
       "      <th></th>\n",
       "      <th>#RAD(Kpc)</th>\n",
       "      <th>RAD(arcs)</th>\n",
       "      <th>VROT(km/s)</th>\n",
       "      <th>DISP(km/s)</th>\n",
       "      <th>INC(deg)</th>\n",
       "      <th>P.A.(deg)</th>\n",
       "      <th>Z0(pc)</th>\n",
       "      <th>Z0(arcs)</th>\n",
       "      <th>SIG(E20)</th>\n",
       "      <th>XPOS(pix)</th>\n",
       "      <th>YPOS(pix)</th>\n",
       "      <th>VSYS(km/s)</th>\n",
       "      <th>VRAD(km/s)</th>\n",
       "      <th>E_VROT1</th>\n",
       "      <th>E_VROT2</th>\n",
       "      <th>E_DISP1</th>\n",
       "      <th>E_DISP2</th>\n",
       "    </tr>\n",
       "  </thead>\n",
       "  <tbody>\n",
       "    <tr>\n",
       "      <th>0</th>\n",
       "      <td>0.233</td>\n",
       "      <td>15.0</td>\n",
       "      <td>60.760</td>\n",
       "      <td>23.437</td>\n",
       "      <td>40.0</td>\n",
       "      <td>124.375</td>\n",
       "      <td>155.144</td>\n",
       "      <td>10.0</td>\n",
       "      <td>1.0</td>\n",
       "      <td>77.0</td>\n",
       "      <td>77.0</td>\n",
       "      <td>132.8</td>\n",
       "      <td>0.0</td>\n",
       "      <td>-5.634</td>\n",
       "      <td>4.760</td>\n",
       "      <td>-3.051</td>\n",
       "      <td>2.318</td>\n",
       "    </tr>\n",
       "    <tr>\n",
       "      <th>1</th>\n",
       "      <td>0.698</td>\n",
       "      <td>45.0</td>\n",
       "      <td>82.750</td>\n",
       "      <td>22.459</td>\n",
       "      <td>40.0</td>\n",
       "      <td>124.375</td>\n",
       "      <td>155.144</td>\n",
       "      <td>10.0</td>\n",
       "      <td>1.0</td>\n",
       "      <td>77.0</td>\n",
       "      <td>77.0</td>\n",
       "      <td>132.8</td>\n",
       "      <td>0.0</td>\n",
       "      <td>-5.881</td>\n",
       "      <td>6.413</td>\n",
       "      <td>-2.504</td>\n",
       "      <td>2.813</td>\n",
       "    </tr>\n",
       "    <tr>\n",
       "      <th>2</th>\n",
       "      <td>1.164</td>\n",
       "      <td>75.0</td>\n",
       "      <td>98.301</td>\n",
       "      <td>18.712</td>\n",
       "      <td>40.0</td>\n",
       "      <td>124.375</td>\n",
       "      <td>155.144</td>\n",
       "      <td>10.0</td>\n",
       "      <td>1.0</td>\n",
       "      <td>77.0</td>\n",
       "      <td>77.0</td>\n",
       "      <td>132.8</td>\n",
       "      <td>0.0</td>\n",
       "      <td>-5.223</td>\n",
       "      <td>5.611</td>\n",
       "      <td>-2.389</td>\n",
       "      <td>2.695</td>\n",
       "    </tr>\n",
       "    <tr>\n",
       "      <th>3</th>\n",
       "      <td>1.629</td>\n",
       "      <td>105.0</td>\n",
       "      <td>106.954</td>\n",
       "      <td>17.361</td>\n",
       "      <td>40.0</td>\n",
       "      <td>124.375</td>\n",
       "      <td>155.144</td>\n",
       "      <td>10.0</td>\n",
       "      <td>1.0</td>\n",
       "      <td>77.0</td>\n",
       "      <td>77.0</td>\n",
       "      <td>132.8</td>\n",
       "      <td>0.0</td>\n",
       "      <td>-5.272</td>\n",
       "      <td>5.893</td>\n",
       "      <td>-2.212</td>\n",
       "      <td>2.429</td>\n",
       "    </tr>\n",
       "    <tr>\n",
       "      <th>4</th>\n",
       "      <td>2.094</td>\n",
       "      <td>135.0</td>\n",
       "      <td>116.813</td>\n",
       "      <td>16.098</td>\n",
       "      <td>40.0</td>\n",
       "      <td>124.375</td>\n",
       "      <td>155.144</td>\n",
       "      <td>10.0</td>\n",
       "      <td>1.0</td>\n",
       "      <td>77.0</td>\n",
       "      <td>77.0</td>\n",
       "      <td>132.8</td>\n",
       "      <td>0.0</td>\n",
       "      <td>-3.821</td>\n",
       "      <td>4.088</td>\n",
       "      <td>-2.047</td>\n",
       "      <td>1.796</td>\n",
       "    </tr>\n",
       "  </tbody>\n",
       "</table>\n",
       "</div>"
      ],
      "text/plain": [
       "   #RAD(Kpc)  RAD(arcs)  VROT(km/s)  DISP(km/s)  INC(deg)  P.A.(deg)   Z0(pc)  \\\n",
       "0      0.233       15.0      60.760      23.437      40.0    124.375  155.144   \n",
       "1      0.698       45.0      82.750      22.459      40.0    124.375  155.144   \n",
       "2      1.164       75.0      98.301      18.712      40.0    124.375  155.144   \n",
       "3      1.629      105.0     106.954      17.361      40.0    124.375  155.144   \n",
       "4      2.094      135.0     116.813      16.098      40.0    124.375  155.144   \n",
       "\n",
       "   Z0(arcs)  SIG(E20)  XPOS(pix)  YPOS(pix)  VSYS(km/s)  VRAD(km/s)  E_VROT1  \\\n",
       "0      10.0       1.0       77.0       77.0       132.8         0.0   -5.634   \n",
       "1      10.0       1.0       77.0       77.0       132.8         0.0   -5.881   \n",
       "2      10.0       1.0       77.0       77.0       132.8         0.0   -5.223   \n",
       "3      10.0       1.0       77.0       77.0       132.8         0.0   -5.272   \n",
       "4      10.0       1.0       77.0       77.0       132.8         0.0   -3.821   \n",
       "\n",
       "   E_VROT2  E_DISP1  E_DISP2  \n",
       "0    4.760   -3.051    2.318  \n",
       "1    6.413   -2.504    2.813  \n",
       "2    5.611   -2.389    2.695  \n",
       "3    5.893   -2.212    2.429  \n",
       "4    4.088   -2.047    1.796  "
      ]
     },
     "execution_count": 2,
     "metadata": {},
     "output_type": "execute_result"
    }
   ],
   "source": [
    "lower.head(5)"
   ]
  },
  {
   "cell_type": "code",
   "execution_count": 3,
   "id": "237b30b7",
   "metadata": {},
   "outputs": [
    {
     "data": {
      "text/plain": [
       "Index(['#RAD(Kpc)', 'RAD(arcs)', 'VROT(km/s)', 'DISP(km/s)', 'INC(deg)',\n",
       "       'P.A.(deg)', 'Z0(pc)', 'Z0(arcs)', 'SIG(E20)', 'XPOS(pix)', 'YPOS(pix)',\n",
       "       'VSYS(km/s)', 'VRAD(km/s)', 'E_VROT1', 'E_VROT2', 'E_DISP1', 'E_DISP2'],\n",
       "      dtype='object')"
      ]
     },
     "execution_count": 3,
     "metadata": {},
     "output_type": "execute_result"
    }
   ],
   "source": [
    "lower.columns"
   ]
  },
  {
   "cell_type": "code",
   "execution_count": 14,
   "id": "ac7bc49d",
   "metadata": {},
   "outputs": [],
   "source": [
    "Vtrue_lower=np.mean(lower['VROT(km/s)'])\n",
    "Vest_lower=lower['VROT(km/s)']+lower['E_VROT1']]\n",
    "Vesr_lower=np.mean(Vest)"
   ]
  },
  {
   "cell_type": "code",
   "execution_count": 15,
   "id": "294a033d",
   "metadata": {},
   "outputs": [],
   "source": [
    "Relative_lower=np.abs((Vtrue-Vesr)/Vesr)*100"
   ]
  },
  {
   "cell_type": "code",
   "execution_count": 16,
   "id": "7f883887",
   "metadata": {},
   "outputs": [
    {
     "ename": "SyntaxError",
     "evalue": "invalid syntax (<ipython-input-16-573473fa0dfa>, line 1)",
     "output_type": "error",
     "traceback": [
      "\u001b[1;36m  File \u001b[1;32m\"<ipython-input-16-573473fa0dfa>\"\u001b[1;36m, line \u001b[1;32m1\u001b[0m\n\u001b[1;33m    Relative Error\u001b[0m\n\u001b[1;37m             ^\u001b[0m\n\u001b[1;31mSyntaxError\u001b[0m\u001b[1;31m:\u001b[0m invalid syntax\n"
     ]
    }
   ],
   "source": [
    "Relative_lower, Vtr,Vesr "
   ]
  },
  {
   "cell_type": "code",
   "execution_count": null,
   "id": "a45ca127",
   "metadata": {},
   "outputs": [],
   "source": []
  }
 ],
 "metadata": {
  "kernelspec": {
   "display_name": "Python 3",
   "language": "python",
   "name": "python3"
  },
  "language_info": {
   "codemirror_mode": {
    "name": "ipython",
    "version": 3
   },
   "file_extension": ".py",
   "mimetype": "text/x-python",
   "name": "python",
   "nbconvert_exporter": "python",
   "pygments_lexer": "ipython3",
   "version": "3.8.8"
  }
 },
 "nbformat": 4,
 "nbformat_minor": 5
}
