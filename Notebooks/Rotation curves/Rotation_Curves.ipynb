{
 "cells": [
  {
   "cell_type": "code",
   "execution_count": 138,
   "id": "9333716e",
   "metadata": {},
   "outputs": [],
   "source": [
    "import numpy as np \n",
    "import matplotlib.pylab as plt\n",
    "from scipy import stats"
   ]
  },
  {
   "cell_type": "code",
   "execution_count": 139,
   "id": "524903e3",
   "metadata": {},
   "outputs": [],
   "source": [
    "G = 4.302*10**(-6)\n",
    "\n",
    "#my models to fit the observations:\n",
    "#my models to fit the observations:\n",
    "#Burkert halo\n",
    "def Burkert_halo(r, r0, rho0):\n",
    "\tG = 4.302*10**(-6) # units (kpc/Msun)*(km2/s2)\n",
    "\tM0 =(np.pi*rho0*(r0**3)) #units Msun\n",
    "\tMbh = (4*M0)*( (np.log(1+(r/r0))) - (np.arctan(r/r0)) + (0.5*np.log(1+((r/r0)**2))) )\n",
    "\tVbh = ((G*Mbh)/r)**0.5\n",
    "\treturn Vbh\n",
    "\t"
   ]
  },
  {
   "cell_type": "code",
   "execution_count": 140,
   "id": "aa98462a",
   "metadata": {},
   "outputs": [],
   "source": [
    "from scipy.special import kv\n",
    "from scipy.special import iv\n",
    "def disk_velocity(Md, rd, r):\n",
    "\tG = 4.302*10**(-6) # units (kpc/Msun)*(km2/s2)\n",
    "\tx = r/(3.2*rd)\n",
    "\t# ~ x = r/(6.4*Rd)\n",
    "\t#bassel func~~~~~\n",
    "\t# ~ #first \n",
    "\tv0 = 0  #order of bessel func\n",
    "\tK0 = kv(v0, 1.6*x) #BESSEL Function\n",
    "\tI0 = iv(v0, 1.6*x) #BESSEL Function\n",
    "\t#~~~second \n",
    "\tv1 = 1  #order of bessel func\n",
    "\tK1 = kv(v1, 1.6*x) #BESSEL Function\n",
    "\tI1 = iv(v1, 1.6*x) #BESSEL Function\n",
    "\n",
    "\tc0 = (I0*K0)-(I1*K1)\n",
    "\tVd = ((0.5)*(G*Md/rd)*((3.2*x)**2)*c0)**0.5\n",
    "\treturn Vd"
   ]
  },
  {
   "cell_type": "code",
   "execution_count": 141,
   "id": "bab56584",
   "metadata": {},
   "outputs": [],
   "source": [
    "from scipy.special import kv\n",
    "from scipy.special import iv\n",
    "\n",
    "def HI_velocity(MHI, RHI, r):\n",
    "\tG = 4.302*10**(-6) # units (kpc/Msun)*(km2/s2)\n",
    "\tx = r/RHI\n",
    "\t#bassel func~~~~~\n",
    "\t#first \n",
    "\tv0 = 0  #order of bessel func\n",
    "\tK0 = kv(v0, 0.53*x) #BESSEL Function\n",
    "\tI0 = iv(v0, 0.53*x) #BESSEL Function\n",
    "\t#~~~second \n",
    "\tv1 = 1  #order of bessel func\n",
    "\tK1 = kv(v1, 0.53*x) #BESSEL Function\n",
    "\tI1 = iv(v1, 0.53*x) #BESSEL Function\n",
    "\n",
    "\tc0 = (I0*K0)-(I1*K1)\n",
    "\tVHI = ((0.5)*(G*MHI/(RHI))*((x**2))*c0)**0.5\n",
    "\treturn VHI"
   ]
  },
  {
   "cell_type": "code",
   "execution_count": 142,
   "id": "44e80a19",
   "metadata": {},
   "outputs": [],
   "source": [
    "#Recall and plot funnctions\n",
    "R=np.linspace(0.01,20,100) #kpc\n",
    "G=4.302*10**(-6) #kpc^3/Msun.s^2\n",
    "\n",
    "\n",
    "\n",
    "#For Dark Matter (Burkert Halo)\n",
    "core_radius=5 #kpc\n",
    "core_density=1*10**8 #Msun/Kpc^3\n",
    "\n",
    "#For Disk Velocity\n",
    "stellar_mass=3*10**10 #M_D in Msun\n",
    "Stellar_radius=2 #R_D in kpc\n",
    "\n",
    "#For HI Gas\n",
    "HI_gas_mass=10**9 #MHI in Msun\n",
    "HI_radius =3*Stellar_radius # in kpc\n"
   ]
  },
  {
   "cell_type": "code",
   "execution_count": 143,
   "id": "78ae73f6",
   "metadata": {},
   "outputs": [],
   "source": [
    "Vdm=Burkert_halo(R, core_radius, core_density)\n",
    "Vgas=HI_velocity(HI_gas_mass, HI_radius, R)\n",
    "Vstar=disk_velocity(stellar_mass, Stellar_radius, R)\n",
    "Vtot=(Vdm**2+Vgas**2+Vstar**2)**0.5"
   ]
  },
  {
   "cell_type": "code",
   "execution_count": 144,
   "id": "6c6587a5",
   "metadata": {},
   "outputs": [],
   "source": [
    "data=[[R],[Vtot],[Vstar],[Vgas],[Vdm]]"
   ]
  },
  {
   "cell_type": "code",
   "execution_count": 145,
   "id": "d075ece6",
   "metadata": {},
   "outputs": [
    {
     "data": {
      "image/png": "[encoded data removed]",
      "text/plain": [
       "<Figure size 432x288 with 1 Axes>"
      ]
     },
     "metadata": {
      "needs_background": "light"
     },
     "output_type": "display_data"
    }
   ],
   "source": [
    "plt.plot(R,Vdm,label='DM Halo')\n",
    "plt.plot(R,Vstar, label='Stellar Mass')\n",
    "plt.plot(R,Vgas,label='HI Gas')\n",
    "plt.plot(R,Vtot, label='Total')\n",
    "plt.title('Rotation Curve')\n",
    "plt.xlabel('R[kpc]')\n",
    "plt.ylabel('Vrot(R) [km/s]')\n",
    "\n",
    "plt.legend()\n",
    "plt.show()"
   ]
  },
  {
   "cell_type": "code",
   "execution_count": null,
   "id": "aec1b0b7",
   "metadata": {},
   "outputs": [],
   "source": []
  }
 ],
 "metadata": {
  "kernelspec": {
   "display_name": "Python 3",
   "language": "python",
   "name": "python3"
  },
  "language_info": {
   "codemirror_mode": {
    "name": "ipython",
    "version": 3
   },
   "file_extension": ".py",
   "mimetype": "text/x-python",
   "name": "python",
   "nbconvert_exporter": "python",
   "pygments_lexer": "ipython3",
   "version": "3.8.8"
  }
 },
 "nbformat": 4,
 "nbformat_minor": 5
}
