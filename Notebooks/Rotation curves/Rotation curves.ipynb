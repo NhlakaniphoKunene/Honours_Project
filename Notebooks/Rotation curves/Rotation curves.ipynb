{
 "cells": [
  {
   "cell_type": "code",
   "execution_count": 1,
   "id": "a7ea6391",
   "metadata": {},
   "outputs": [],
   "source": [
    "import matplotlib.pyplot as plt\n",
    "import numpy as np\n",
    "import pandas as pd\n",
    "%matplotlib inline\n",
    "\n",
    "#read the data file\n",
    "data=pd.read_csv('rings_final2.txt', delimiter=\"\\s+\", index_col=False)"
   ]
  },
  {
   "cell_type": "code",
   "execution_count": 2,
   "id": "69daa108",
   "metadata": {},
   "outputs": [
    {
     "data": {
      "text/html": [
       "<div>\n",
       "<style scoped>\n",
       "    .dataframe tbody tr th:only-of-type {\n",
       "        vertical-align: middle;\n",
       "    }\n",
       "\n",
       "    .dataframe tbody tr th {\n",
       "        vertical-align: top;\n",
       "    }\n",
       "\n",
       "    .dataframe thead th {\n",
       "        text-align: right;\n",
       "    }\n",
       "</style>\n",
       "<table border=\"1\" class=\"dataframe\">\n",
       "  <thead>\n",
       "    <tr style=\"text-align: right;\">\n",
       "      <th></th>\n",
       "      <th>#RAD(Kpc)</th>\n",
       "      <th>RAD(arcs)</th>\n",
       "      <th>VROT(km/s)</th>\n",
       "      <th>DISP(km/s)</th>\n",
       "      <th>INC(deg)</th>\n",
       "      <th>P.A.(deg)</th>\n",
       "      <th>Z0(pc)</th>\n",
       "      <th>Z0(arcs)</th>\n",
       "      <th>SIG(E20)</th>\n",
       "      <th>XPOS(pix)</th>\n",
       "      <th>YPOS(pix)</th>\n",
       "      <th>VSYS(km/s)</th>\n",
       "      <th>VRAD(km/s)</th>\n",
       "      <th>E_VROT1</th>\n",
       "      <th>E_VROT2</th>\n",
       "      <th>E_DISP1</th>\n",
       "      <th>E_DISP2</th>\n",
       "    </tr>\n",
       "  </thead>\n",
       "  <tbody>\n",
       "    <tr>\n",
       "      <th>36</th>\n",
       "      <td>16.988</td>\n",
       "      <td>1095.0</td>\n",
       "      <td>136.413</td>\n",
       "      <td>8.995</td>\n",
       "      <td>60.0</td>\n",
       "      <td>124.012</td>\n",
       "      <td>155.144</td>\n",
       "      <td>10.0</td>\n",
       "      <td>1.0</td>\n",
       "      <td>77.0</td>\n",
       "      <td>77.0</td>\n",
       "      <td>132.8</td>\n",
       "      <td>0.0</td>\n",
       "      <td>-3.467</td>\n",
       "      <td>3.716</td>\n",
       "      <td>-2.238</td>\n",
       "      <td>2.460</td>\n",
       "    </tr>\n",
       "    <tr>\n",
       "      <th>37</th>\n",
       "      <td>17.454</td>\n",
       "      <td>1125.0</td>\n",
       "      <td>136.296</td>\n",
       "      <td>9.538</td>\n",
       "      <td>60.0</td>\n",
       "      <td>124.012</td>\n",
       "      <td>155.144</td>\n",
       "      <td>10.0</td>\n",
       "      <td>1.0</td>\n",
       "      <td>77.0</td>\n",
       "      <td>77.0</td>\n",
       "      <td>132.8</td>\n",
       "      <td>0.0</td>\n",
       "      <td>-3.360</td>\n",
       "      <td>2.797</td>\n",
       "      <td>-2.282</td>\n",
       "      <td>2.315</td>\n",
       "    </tr>\n",
       "    <tr>\n",
       "      <th>38</th>\n",
       "      <td>17.919</td>\n",
       "      <td>1155.0</td>\n",
       "      <td>135.431</td>\n",
       "      <td>9.060</td>\n",
       "      <td>60.0</td>\n",
       "      <td>124.012</td>\n",
       "      <td>155.144</td>\n",
       "      <td>10.0</td>\n",
       "      <td>1.0</td>\n",
       "      <td>77.0</td>\n",
       "      <td>77.0</td>\n",
       "      <td>132.8</td>\n",
       "      <td>0.0</td>\n",
       "      <td>-3.193</td>\n",
       "      <td>2.603</td>\n",
       "      <td>-1.903</td>\n",
       "      <td>2.215</td>\n",
       "    </tr>\n",
       "    <tr>\n",
       "      <th>39</th>\n",
       "      <td>18.385</td>\n",
       "      <td>1185.0</td>\n",
       "      <td>134.850</td>\n",
       "      <td>9.053</td>\n",
       "      <td>60.0</td>\n",
       "      <td>124.012</td>\n",
       "      <td>155.144</td>\n",
       "      <td>10.0</td>\n",
       "      <td>1.0</td>\n",
       "      <td>77.0</td>\n",
       "      <td>77.0</td>\n",
       "      <td>132.8</td>\n",
       "      <td>0.0</td>\n",
       "      <td>-3.514</td>\n",
       "      <td>3.108</td>\n",
       "      <td>-1.829</td>\n",
       "      <td>2.253</td>\n",
       "    </tr>\n",
       "    <tr>\n",
       "      <th>40</th>\n",
       "      <td>18.850</td>\n",
       "      <td>1215.0</td>\n",
       "      <td>135.148</td>\n",
       "      <td>9.278</td>\n",
       "      <td>60.0</td>\n",
       "      <td>124.012</td>\n",
       "      <td>155.144</td>\n",
       "      <td>10.0</td>\n",
       "      <td>1.0</td>\n",
       "      <td>77.0</td>\n",
       "      <td>77.0</td>\n",
       "      <td>132.8</td>\n",
       "      <td>0.0</td>\n",
       "      <td>-4.017</td>\n",
       "      <td>3.355</td>\n",
       "      <td>-2.001</td>\n",
       "      <td>1.854</td>\n",
       "    </tr>\n",
       "  </tbody>\n",
       "</table>\n",
       "</div>"
      ],
      "text/plain": [
       "    #RAD(Kpc)  RAD(arcs)  VROT(km/s)  DISP(km/s)  INC(deg)  P.A.(deg)  \\\n",
       "36     16.988     1095.0     136.413       8.995      60.0    124.012   \n",
       "37     17.454     1125.0     136.296       9.538      60.0    124.012   \n",
       "38     17.919     1155.0     135.431       9.060      60.0    124.012   \n",
       "39     18.385     1185.0     134.850       9.053      60.0    124.012   \n",
       "40     18.850     1215.0     135.148       9.278      60.0    124.012   \n",
       "\n",
       "     Z0(pc)  Z0(arcs)  SIG(E20)  XPOS(pix)  YPOS(pix)  VSYS(km/s)  VRAD(km/s)  \\\n",
       "36  155.144      10.0       1.0       77.0       77.0       132.8         0.0   \n",
       "37  155.144      10.0       1.0       77.0       77.0       132.8         0.0   \n",
       "38  155.144      10.0       1.0       77.0       77.0       132.8         0.0   \n",
       "39  155.144      10.0       1.0       77.0       77.0       132.8         0.0   \n",
       "40  155.144      10.0       1.0       77.0       77.0       132.8         0.0   \n",
       "\n",
       "    E_VROT1  E_VROT2  E_DISP1  E_DISP2  \n",
       "36   -3.467    3.716   -2.238    2.460  \n",
       "37   -3.360    2.797   -2.282    2.315  \n",
       "38   -3.193    2.603   -1.903    2.215  \n",
       "39   -3.514    3.108   -1.829    2.253  \n",
       "40   -4.017    3.355   -2.001    1.854  "
      ]
     },
     "execution_count": 2,
     "metadata": {},
     "output_type": "execute_result"
    }
   ],
   "source": [
    "data.tail()"
   ]
  },
  {
   "cell_type": "code",
   "execution_count": 3,
   "id": "3ef77aff",
   "metadata": {},
   "outputs": [],
   "source": [
    "#Stars\n",
    "from scipy.special import kv\n",
    "from scipy.special import iv\n",
    "def disk_velocity(Md, rd, r):\n",
    "\tG = 4.302*10**(-6) # units (kpc/Msun)*(km2/s2)\n",
    "\tx = r/(3.2*rd)\n",
    "\t# ~ x = r/(6.4*Rd)\n",
    "\t#bassel func~~~~~\n",
    "\t# ~ #first \n",
    "\tv0 = 0  #order of bessel func\n",
    "\tK0 = kv(v0, 1.6*x) #BESSEL Function\n",
    "\tI0 = iv(v0, 1.6*x) #BESSEL Function\n",
    "\t#~~~second \n",
    "\tv1 = 1  #order of bessel func\n",
    "\tK1 = kv(v1, 1.6*x) #BESSEL Function\n",
    "\tI1 = iv(v1, 1.6*x) #BESSEL Function\n",
    "\n",
    "\tc0 = (I0*K0)-(I1*K1)\n",
    "\tVd = ((0.5)*(G*Md/rd)*((3.2*x)**2)*c0)**0.5\n",
    "\treturn Vd"
   ]
  },
  {
   "cell_type": "code",
   "execution_count": 4,
   "id": "9279c4f1",
   "metadata": {},
   "outputs": [],
   "source": [
    "#HI_Gas\n",
    "from scipy.special import kv\n",
    "from scipy.special import iv\n",
    "\n",
    "def HI_velocity(MHI, RHI, r):\n",
    "\tG = 4.302*10**(-6) # units (kpc/Msun)*(km2/s2)\n",
    "\tx = r/RHI\n",
    "\t#bassel func~~~~~\n",
    "\t#first \n",
    "\tv0 = 0  #order of bessel func\n",
    "\tK0 = kv(v0, 0.53*x) #BESSEL Function\n",
    "\tI0 = iv(v0, 0.53*x) #BESSEL Function\n",
    "\t#~~~second \n",
    "\tv1 = 1  #order of bessel func\n",
    "\tK1 = kv(v1, 0.53*x) #BESSEL Function\n",
    "\tI1 = iv(v1, 0.53*x) #BESSEL Function\n",
    "\n",
    "\tc0 = (I0*K0)-(I1*K1)\n",
    "\tVHI = ((0.5)*(G*MHI/(RHI))*((x**2))*c0)**0.5\n",
    "\treturn VHI"
   ]
  },
  {
   "cell_type": "code",
   "execution_count": 5,
   "id": "1cb80361",
   "metadata": {},
   "outputs": [],
   "source": [
    "#Recall and plot funnctions\n",
    "R=np.array(data['#RAD(Kpc)']) #kpc\n",
    "G=4.302*10**(-6) #kpc^3/Msun.s^2\n",
    "\n",
    "\n",
    "Rd = 3.22349; RHI = 3*Rd; Re = 1.69*Rd\n",
    "#For Disk Velocity\n",
    "stellar_mass=3*10**10 #M_D in Msun\n",
    "Stellar_radius=3.22349 #R_D in kpc\n",
    "\n",
    "#For HI Gas\n",
    "HI_gas_mass=10**9 #MHI in Msun\n",
    "HI_radius =3*Stellar_radius # in kpc\n",
    "\n",
    "R_E=1.69*Stellar_radius  #7.6 #kpc #effective radius"
   ]
  },
  {
   "cell_type": "code",
   "execution_count": 6,
   "id": "54a92716",
   "metadata": {},
   "outputs": [],
   "source": [
    "#Velocities\n",
    "Vobs=np.array(data['VROT(km/s)']) #observed velocity\n",
    "VobsErr=np.array(data['E_VROT1']) #error bars of observed velocity\n",
    "Vgas=HI_velocity(HI_gas_mass, HI_radius, R) #velocity og HI gas\n",
    "Vstar=disk_velocity(stellar_mass, Stellar_radius, R) #velocity of stars\n",
    "Vbar=np.sqrt(Vgas**2+Vstar**2) #baryonic matter velocity"
   ]
  },
  {
   "cell_type": "code",
   "execution_count": 7,
   "id": "8a1ae551",
   "metadata": {},
   "outputs": [
    {
     "data": {
      "image/png": "[encoded data removed]",
      "text/plain": [
       "<Figure size 432x288 with 1 Axes>"
      ]
     },
     "metadata": {
      "needs_background": "light"
     },
     "output_type": "display_data"
    }
   ],
   "source": [
    "#plotting\n",
    "plt.errorbar(R,Vobs,yerr=VobsErr,fmt='-o', label='Observed')\n",
    "plt.plot(R,Vstar,'.', label='Stellar Mass')\n",
    "plt.plot(R,Vgas,'.',label='HI Gas')\n",
    "plt.plot(R,Vbar, label='Baryons')\n",
    "plt.title('Rotation Curve of NGC2403')\n",
    "plt.xlabel('R[kpc]')\n",
    "plt.ylabel('Vrot(R) [km/s]')\n",
    "plt.axvline(x=R_E)\n",
    "#plt.axis([1.5,20.5,0,150])\n",
    "plt.legend()\n",
    "plt.show()"
   ]
  },
  {
   "cell_type": "code",
   "execution_count": 8,
   "id": "184e8061",
   "metadata": {},
   "outputs": [],
   "source": [
    "#Dark matter Fractions\n",
    "\n",
    "f_dm=1-(Vbar**2/Vobs**2)"
   ]
  },
  {
   "cell_type": "code",
   "execution_count": 9,
   "id": "66d5c282",
   "metadata": {},
   "outputs": [
    {
     "data": {
      "image/png": "[encoded data removed]",
      "text/plain": [
       "<Figure size 432x288 with 1 Axes>"
      ]
     },
     "metadata": {
      "needs_background": "light"
     },
     "output_type": "display_data"
    }
   ],
   "source": [
    "plt.plot(R,f_dm, label='DM Fractions')\n",
    "plt.title('Dark Matter Fractions of NGC2403')\n",
    "plt.xlabel('R[kpc]')\n",
    "plt.ylabel('f_DM(R)')\n",
    "plt.axvline(x=R_E)\n",
    "plt.axis([1.0,20.5,0.0,0.6])\n",
    "plt.legend()\n",
    "plt.show()"
   ]
  },
  {
   "cell_type": "code",
   "execution_count": null,
   "id": "7b08e1f8",
   "metadata": {},
   "outputs": [],
   "source": []
  },
  {
   "cell_type": "code",
   "execution_count": null,
   "id": "50ff88e8",
   "metadata": {},
   "outputs": [],
   "source": []
  }
 ],
 "metadata": {
  "kernelspec": {
   "display_name": "Python 3",
   "language": "python",
   "name": "python3"
  },
  "language_info": {
   "codemirror_mode": {
    "name": "ipython",
    "version": 3
   },
   "file_extension": ".py",
   "mimetype": "text/x-python",
   "name": "python",
   "nbconvert_exporter": "python",
   "pygments_lexer": "ipython3",
   "version": "3.8.8"
  }
 },
 "nbformat": 4,
 "nbformat_minor": 5
}
